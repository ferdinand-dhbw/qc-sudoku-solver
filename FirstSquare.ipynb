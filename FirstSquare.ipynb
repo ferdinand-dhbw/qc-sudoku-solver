{
 "cells": [
  {
   "cell_type": "markdown",
   "metadata": {},
   "source": [
    "Ein magisches Quadrat ist ein Quadrat von nxn Zellen, die die Werte von 1 bis nxn enthalten. Dabei sind die Zeilen-, Spalten und Diagonalensummen alle gleich.\n",
    "\n",
    "Die Variablen sind in der Form x(r,c,v) mit den Zeilen(r)- und Spalten(c)indizes 0-based.\n",
    "\n",
    "Der Wert(v) ist ebenfalls 0-based und x(r,c,v)=1 heisst somit, dass in der Zeile r+1 und in der Spalte c+1 der Wert v+1 steht."
   ]
  },
  {
   "cell_type": "code",
   "execution_count": 1,
   "metadata": {},
   "outputs": [
    {
     "name": "stdout",
     "output_type": "stream",
     "text": [
      "\n",
      "ready\n"
     ]
    }
   ],
   "source": [
    "from dadk.FujitsuQUBOSolver import *\n",
    "# from dadk.FujitsuQUBOSolverDAU import *\n",
    "from dadk.FujitsuQUBOSolverEmulatorCPU import *\n",
    "# from dadk.FujitsuQUBOSolverEmulatorCPUOneHot import *\n",
    "\n",
    "from dadk.Solution_SolutionList import *\n",
    "from dadk.BinPol import *\n",
    "\n",
    "from tabulate import tabulate\n",
    "import ipywidgets as widgets\n",
    "\n",
    "def mapColumn(i):\n",
    "    mapping = {\n",
    "        0: 0,\n",
    "        1: 0,\n",
    "        2: 0,\n",
    "        3: 1,\n",
    "        4: 1,\n",
    "        5: 1,\n",
    "        6: 2,\n",
    "        7: 2,\n",
    "        8: 2,\n",
    "    }\n",
    "    return mapping.get(i, 2)\n",
    "\n",
    "print(\"\\nready\")"
   ]
  },
  {
   "cell_type": "markdown",
   "metadata": {},
   "source": [
    "<table>\n",
    "    <tr>\n",
    "        <td><img src=\"./images/bits-overview.gif\"></td>\n",
    "    </tr>\n",
    "</table>"
   ]
  },
  {
   "cell_type": "code",
   "execution_count": 2,
   "metadata": {},
   "outputs": [],
   "source": [
    "N = 9\n",
    "\n",
    "# magic_constant = N * (N**2 + 1)/2\n",
    "# print('magic_constant = %d' % magic_constant)\n",
    "    \n",
    "var_shape_set = VarShapeSet(BitArrayShape('x', (N, N, 9), one_hot=OneHot.one_way, axis_names=['Row', 'Column', 'Value'])) "
   ]
  },
  {
   "cell_type": "markdown",
   "metadata": {},
   "source": [
    "H1 : Nur eine Zahl pro Zelle\n",
    "\n",
    "<table>\n",
    "    <tr>\n",
    "        <td><img src=\"./images/cell-single.gif\"></td>\n",
    "        <td><img src=\"./images/cell-all.gif\"></td>\n",
    "    </tr>\n",
    "</table>\n",
    "        "
   ]
  },
  {
   "cell_type": "code",
   "execution_count": 3,
   "metadata": {},
   "outputs": [],
   "source": [
    "H1 = BinPol(var_shape_set)\n",
    "for r in range(N):\n",
    "    for c in range(N):\n",
    "        h = BinPol(var_shape_set).add_term(-1, ())\n",
    "        for v in range(9):\n",
    "            h.add_term(1,(('x', r, c, v),))\n",
    "            # print(\"In v=\", v, \" h=\", h)\n",
    "        h.power(2)\n",
    "        H1.add(h)\n",
    "       \n",
    "# H1x = var_shape_set.generate_penalty_polynomial('x')\n",
    "# print(H1 == H1x)"
   ]
  },
  {
   "cell_type": "markdown",
   "metadata": {},
   "source": [
    "H2 : In jedem Quadrat Zahl nur einmal\n",
    "\n",
    "<table>\n",
    "    <tr>\n",
    "        <td><img src=\"./images/row-single.gif\"></td>\n",
    "        <td><img src=\"./images/row-all.gif\"></td>\n",
    "    </tr>\n",
    "</table>"
   ]
  },
  {
   "cell_type": "code",
   "execution_count": 4,
   "metadata": {},
   "outputs": [],
   "source": [
    "H2 = BinPol(var_shape_set)\n",
    "for i in range(9): #9 quadrate\n",
    "    for v in range(9):\n",
    "        h = BinPol(var_shape_set).add_term(-1, ())\n",
    "        for r in range(3):\n",
    "            for c in range(3):\n",
    "                h.add_term(1,(('x', r + (i%3)*3, c + mapColumn(i)*3, v),))\n",
    "        # print(\"In v=\", v, \" h=\", h)\n",
    "        h.power(2)\n",
    "        H2.add(h)\n",
    "        \n",
    "# H2x = var_shape_set.generate_penalty_polynomial('x')\n",
    "# print(H2 == H2x)\n",
    "# print(\"H2 \", H2)\n",
    "# print(\"H2x: \", H2x)"
   ]
  },
  {
   "cell_type": "markdown",
   "metadata": {},
   "source": [
    "H3 : Vorgegebene Felder\n",
    "\n",
    "<table>\n",
    "    <tr>\n",
    "        <td><img src=\"./images/column-single.gif\"></td>\n",
    "        <td><img src=\"./images/column-all.gif\"></td>\n",
    "    </tr>\n",
    "</table>"
   ]
  },
  {
   "cell_type": "code",
   "execution_count": 5,
   "metadata": {},
   "outputs": [
    {
     "data": {
      "text/plain": [
       "\"H3 = BinPol(var_shape_set)\\nfor c in range(N):\\n    h = BinPol(var_shape_set).add_term(-magic_constant, ())\\n    for r in range(N):\\n        for v in range(N*N):\\n            h.add_term(v+1,(('x', r, c, v),))\\n    h.power(2)\\n    H3.add(h)\\n    \\nH3x = BinPol.sum( (BinPol.sum(Term(v+1, (('x', r, c, v),), var_shape_set=var_shape_set) for v in range(N*N) for r in range(N) ) - magic_constant) ** 2 for c in range(N) )\\nprint(H3 == H3x)\""
      ]
     },
     "execution_count": 5,
     "metadata": {},
     "output_type": "execute_result"
    }
   ],
   "source": [
    "H3 = BinPol(var_shape_set)\n",
    "h = BinPol(var_shape_set).add_term(-1, ())\n",
    "h.add_term(1,(('x', 0, 0, 0),))\n",
    "h.power(2)\n",
    "H3.add(h)\n",
    "\n",
    "h = BinPol(var_shape_set).add_term(-1, ())\n",
    "h.add_term(1,(('x', 0, 1, 8),))\n",
    "h.power(2)\n",
    "H3.add(h)\n",
    "\n",
    "\n",
    "\"\"\"H3 = BinPol(var_shape_set)\n",
    "for c in range(N):\n",
    "    h = BinPol(var_shape_set).add_term(-magic_constant, ())\n",
    "    for r in range(N):\n",
    "        for v in range(N*N):\n",
    "            h.add_term(v+1,(('x', r, c, v),))\n",
    "    h.power(2)\n",
    "    H3.add(h)\n",
    "    \n",
    "H3x = BinPol.sum( (BinPol.sum(Term(v+1, (('x', r, c, v),), var_shape_set=var_shape_set) for v in range(N*N) for r in range(N) ) - magic_constant) ** 2 for c in range(N) )\n",
    "print(H3 == H3x)\"\"\""
   ]
  },
  {
   "cell_type": "markdown",
   "metadata": {},
   "source": [
    "H4 & H5 : In jeder Zeile nur einmal\n",
    "\n",
    "<table>\n",
    "    <tr>\n",
    "        <td><img src=\"./images/diagonal_1.gif\"></td>\n",
    "        <td><img src=\"./images/diagonal_2.gif\"></td>\n",
    "    </tr>\n",
    "</table>"
   ]
  },
  {
   "cell_type": "code",
   "execution_count": 6,
   "metadata": {
    "scrolled": true
   },
   "outputs": [
    {
     "name": "stdout",
     "output_type": "stream",
     "text": [
      "False\n"
     ]
    },
    {
     "data": {
      "text/plain": [
       "\"H4 = BinPol(var_shape_set).add_term(-magic_constant, ())\\nfor i in range(N):\\n    for v in range(N*N):\\n        H4.add_term(v+1,(('x', i, i, v),))\\nH4.power(2)\\n\\nH4x = (BinPol.sum(Term(v+1, (('x', i, i, v),), var_shape_set=var_shape_set) for v in range(N*N) for i in range(N) ) - magic_constant) ** 2\\nprint(H4 == H4x)\\n\\nH5 = BinPol(var_shape_set).add_term(-magic_constant, ())\\nfor i in range(N):\\n    for v in range(N*N):\\n        H5.add_term(v+1,(('x', i, N-i-1, v),))\\nH5.power(2)\\n\\nH5x = (BinPol.sum(Term(v+1, (('x', i, (N-1)-i, v),), var_shape_set=var_shape_set) for v in range(N*N) for i in range(N) ) - magic_constant) ** 2\\nprint(H5 == H5x)\""
      ]
     },
     "execution_count": 6,
     "metadata": {},
     "output_type": "execute_result"
    }
   ],
   "source": [
    "H4 = BinPol(var_shape_set)\n",
    "for c in range(N):\n",
    "    for v in range(9):\n",
    "        h = BinPol(var_shape_set).add_term(-1, ())\n",
    "        for r in range(N):\n",
    "            h.add_term(1,(('x', r, c, v),))\n",
    "        h.power(2)\n",
    "        H4.add(h)\n",
    "            \n",
    "H4x = var_shape_set.generate_penalty_polynomial('x')\n",
    "print(H4 == H4x)\n",
    "\n",
    "\"\"\"H4 = BinPol(var_shape_set).add_term(-magic_constant, ())\n",
    "for i in range(N):\n",
    "    for v in range(N*N):\n",
    "        H4.add_term(v+1,(('x', i, i, v),))\n",
    "H4.power(2)\n",
    "\n",
    "H4x = (BinPol.sum(Term(v+1, (('x', i, i, v),), var_shape_set=var_shape_set) for v in range(N*N) for i in range(N) ) - magic_constant) ** 2\n",
    "print(H4 == H4x)\n",
    "\n",
    "H5 = BinPol(var_shape_set).add_term(-magic_constant, ())\n",
    "for i in range(N):\n",
    "    for v in range(N*N):\n",
    "        H5.add_term(v+1,(('x', i, N-i-1, v),))\n",
    "H5.power(2)\n",
    "\n",
    "H5x = (BinPol.sum(Term(v+1, (('x', i, (N-1)-i, v),), var_shape_set=var_shape_set) for v in range(N*N) for i in range(N) ) - magic_constant) ** 2\n",
    "print(H5 == H5x)\"\"\""
   ]
  },
  {
   "cell_type": "markdown",
   "metadata": {},
   "source": [
    "und jeder Wert soll nur einmal vorkommen"
   ]
  },
  {
   "cell_type": "code",
   "execution_count": 7,
   "metadata": {},
   "outputs": [
    {
     "data": {
      "text/plain": [
       "\"H6 = BinPol(var_shape_set)\\nfor v in range(N*N):\\n    h = BinPol(var_shape_set).set_term(-1)\\n    for r in range(N):\\n        for c in range(N):\\n            h.add_term(1,(('x', r, c, v),))\\n    h.power(2)\\n    H6.add(h)\\n    \\nH6x = BinPol.sum( (BinPol.sum(Term(1, (('x', r, c, v),), var_shape_set=var_shape_set) for c in range(N) for r in range(N) ) - 1) ** 2 for v in range(N*N) )\\nprint(H6 == H6x)\""
      ]
     },
     "execution_count": 7,
     "metadata": {},
     "output_type": "execute_result"
    }
   ],
   "source": [
    "\"\"\"H6 = BinPol(var_shape_set)\n",
    "for v in range(N*N):\n",
    "    h = BinPol(var_shape_set).set_term(-1)\n",
    "    for r in range(N):\n",
    "        for c in range(N):\n",
    "            h.add_term(1,(('x', r, c, v),))\n",
    "    h.power(2)\n",
    "    H6.add(h)\n",
    "    \n",
    "H6x = BinPol.sum( (BinPol.sum(Term(1, (('x', r, c, v),), var_shape_set=var_shape_set) for c in range(N) for r in range(N) ) - 1) ** 2 for v in range(N*N) )\n",
    "print(H6 == H6x)\"\"\""
   ]
  },
  {
   "cell_type": "code",
   "execution_count": 8,
   "metadata": {},
   "outputs": [],
   "source": [
    "solverCPU = FujitsuQUBOSolverEmulatorCPU( # FujitsuQUBOSolverEmulatorOneHotCPU or FujitsuQUBOSolverEmulatorCPU\n",
    "            number_iterations=200*1000,\n",
    "            number_runs=1,\n",
    "\n",
    "            expert_mode=True,\n",
    "            temperature_start=10000,\n",
    "            temperature_end=1,\n",
    "            temperature_mode=0,\n",
    "            offset_increase_rate=20,\n",
    "\n",
    "            solution_mode='COMPLETE',\n",
    "            optimization_method=OM_ANNEALING,\n",
    "    \n",
    "            graphics=GraphicsDetail.ALL,\n",
    "\n",
    "            annealer_version=2,\n",
    "            bit_precision=16)\n",
    "\n",
    "\"\"\" solverDAU = FujitsuQUBOSolverDAU(\n",
    "            number_iterations=10*1000*1000,\n",
    "            number_runs=128,\n",
    "\n",
    "            expert_mode=True,\n",
    "            temperature_start=10000,\n",
    "            temperature_end=1,\n",
    "            temperature_mode=0,\n",
    "            offset_increase_rate=20,\n",
    "\n",
    "            solution_mode='COMPLETE',\n",
    "            optimization_method=OM_ANNEALING,\n",
    "\n",
    "            use_access_profile=True,\n",
    "            annealer_version=2,\n",
    "            bit_precision=16) \"\"\"\n",
    "    \n",
    "solver = solverCPU"
   ]
  },
  {
   "cell_type": "code",
   "execution_count": null,
   "metadata": {},
   "outputs": [],
   "source": [
    "qubo = 100*H1 + 10*H2 + H3 # + H4 + H5 + 100*H6\n",
    "solution_list = solver.minimize(qubo) "
   ]
  },
  {
   "cell_type": "code",
   "execution_count": null,
   "metadata": {
    "scrolled": true
   },
   "outputs": [],
   "source": [
    "for solution in solution_list.get_solution_list():   \n",
    "    if qubo.compute(solution.configuration) == 0:\n",
    "    \n",
    "        magic_square = np.full((N,N), -1) \n",
    "    \n",
    "        config_bits = VarSet(solution.configuration, var_shape_set)\n",
    "        start_table = config_bits.extract_bit_array('x')\n",
    "        for r in range(N):\n",
    "            for c in range(N):\n",
    "                for v in range(9):\n",
    "                    if start_table.data[r, c, v]:\n",
    "                        magic_square[r][c] = (v+1)\n",
    "\n",
    "        display(widgets.HTML('<h4>frequency %d</h4>' % solution.frequency))\n",
    "        print(tabulate(magic_square, tablefmt=\"fancy_grid\"))\n",
    "    else:\n",
    "        print('not a valid solution')"
   ]
  },
  {
   "cell_type": "code",
   "execution_count": null,
   "metadata": {},
   "outputs": [],
   "source": [
    "solution_list.print_stats()\n",
    "solution_list.print_graphs()"
   ]
  },
  {
   "cell_type": "code",
   "execution_count": null,
   "metadata": {},
   "outputs": [],
   "source": []
  },
  {
   "cell_type": "code",
   "execution_count": null,
   "metadata": {},
   "outputs": [],
   "source": []
  },
  {
   "cell_type": "code",
   "execution_count": null,
   "metadata": {},
   "outputs": [],
   "source": []
  }
 ],
 "metadata": {
  "kernelspec": {
   "display_name": "Python 3",
   "language": "python",
   "name": "python3"
  },
  "language_info": {
   "codemirror_mode": {
    "name": "ipython",
    "version": 3
   },
   "file_extension": ".py",
   "mimetype": "text/x-python",
   "name": "python",
   "nbconvert_exporter": "python",
   "pygments_lexer": "ipython3",
   "version": "3.8.5"
  }
 },
 "nbformat": 4,
 "nbformat_minor": 4
}
