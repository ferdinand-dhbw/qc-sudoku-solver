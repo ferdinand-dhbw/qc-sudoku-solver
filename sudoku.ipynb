{
 "cells": [
  {
   "cell_type": "markdown",
   "metadata": {},
   "source": [
    "Ein magisches Quadrat ist ein Quadrat von nxn Zellen, die die Werte von 1 bis nxn enthalten. Dabei sind die Zeilen-, Spalten und Diagonalensummen alle gleich.\n",
    "\n",
    "Die Variablen sind in der Form x(r,c,v) mit den Zeilen(r)- und Spalten(c)indizes 0-based.\n",
    "\n",
    "Der Wert(v) ist ebenfalls 0-based und x(r,c,v)=1 heisst somit, dass in der Zeile r+1 und in der Spalte c+1 der Wert v+1 steht."
   ]
  },
  {
   "cell_type": "code",
   "execution_count": 1,
   "metadata": {},
   "outputs": [
    {
     "name": "stdout",
     "output_type": "stream",
     "text": [
      "\n",
      "ready\n"
     ]
    }
   ],
   "source": [
    "from dadk.FujitsuQUBOSolver import *\n",
    "# from dadk.FujitsuQUBOSolverDAU import *\n",
    "from dadk.FujitsuQUBOSolverEmulatorCPU import *\n",
    "# from dadk.FujitsuQUBOSolverEmulatorCPUOneHot import *\n",
    "\n",
    "from dadk.Solution_SolutionList import *\n",
    "from dadk.BinPol import *\n",
    "\n",
    "from tabulate import tabulate\n",
    "import ipywidgets as widgets\n",
    "\n",
    "def mapColumn(i):\n",
    "    mapping = {\n",
    "        0: 0,\n",
    "        1: 0,\n",
    "        2: 0,\n",
    "        3: 1,\n",
    "        4: 1,\n",
    "        5: 1,\n",
    "        6: 2,\n",
    "        7: 2,\n",
    "        8: 2,\n",
    "    }\n",
    "    return mapping.get(i, 2)\n",
    "\n",
    "print(\"\\nready\")"
   ]
  },
  {
   "cell_type": "code",
   "execution_count": 2,
   "metadata": {},
   "outputs": [
    {
     "name": "stdout",
     "output_type": "stream",
     "text": [
      "8-- --- --- \n",
      "--3 6-- --- \n",
      "-7- -9- 2-- \n",
      "\n",
      "-5- --7 --- \n",
      "--- -45 7-- \n",
      "--- 1-- -3- \n",
      "\n",
      "--1 --- -68 \n",
      "--8 5-- -1- \n",
      "-9- --- 4-- \n",
      "\n"
     ]
    }
   ],
   "source": [
    "Sudoku = [[8, 0, 0,  0, 0, 0,  0, 0, 0],\n",
    "          [0, 0, 3,  6, 0, 0,  0, 0, 0],\n",
    "          [0, 7, 0,  0, 9, 0,  2, 0, 0],\n",
    "          \n",
    "          [0, 5, 0,  0, 0, 7,  0, 0, 0],\n",
    "          [0, 0, 0,  0, 4, 5,  7, 0, 0],\n",
    "          [0, 0, 0,  1, 0, 0,  0, 3, 0],\n",
    "          \n",
    "          [0, 0, 1,  0, 0, 0,  0, 6, 8],\n",
    "          [0, 0, 8,  5, 0, 0,  0, 1, 0],\n",
    "          [0, 9, 0,  0, 0, 0,  4, 0, 0]]\n",
    "N = len(Sudoku)\n",
    "\n",
    "given_bits = np.full((N, N, 9), -1, np.int8)\n",
    "\n",
    "for r in range(N):\n",
    "    for c in range(len(Sudoku[r])):\n",
    "        print('-' if (Sudoku[r][c]==0) else Sudoku[r][c], end='')\n",
    "        if (c+1)%3==0:\n",
    "            print(\" \", end='')\n",
    "        if Sudoku[r][c]!=0:\n",
    "            for v in range(9): \n",
    "                given_bits[r][c][v]= 0 if (v!=Sudoku[r][c]-1) else 1\n",
    "            for i in range(9):\n",
    "                given_bits[i][c][Sudoku[r][c]-1]= 0 if (i != r) else 1\n",
    "                given_bits[r][i][Sudoku[r][c]-1]= 0 if (i != c) else 1\n",
    "                #erste Reihe an Quadraten\n",
    "                if (r < 3 and c < 3):\n",
    "                    given_bits[(i%3)][mapColumn(i)][Sudoku[r][c]-1]= 0 if (not(i%3 == r and mapColumn(i) == c)) else 1\n",
    "                elif (r < 3 and c > 2 and c < 6):\n",
    "                    given_bits[(i%3)][3 + mapColumn(i)][Sudoku[r][c]-1]= 0 if (not(i%3 == r and mapColumn(i)+3 == c)) else 1\n",
    "                elif (r < 3 and c > 5):\n",
    "                    given_bits[(i%3)][6 + mapColumn(i)][Sudoku[r][c]-1]= 0 if (not(i%3 == r and mapColumn(i)+6 == c)) else 1\n",
    "                #zweite Reihe an Quadraten\n",
    "                elif (r > 2 and r < 6 and c < 3):\n",
    "                    given_bits[3 + (i%3)][mapColumn(i)][Sudoku[r][c]-1]= 0 if (not(i%3+3 == r and mapColumn(i) == c)) else 1\n",
    "                elif (r > 2 and r < 6 and c > 2 and c < 6):\n",
    "                    given_bits[3 + (i%3)][3 + mapColumn(i)][Sudoku[r][c]-1]= 0 if (not(i%3+3 == r and mapColumn(i)+3 == c)) else 1\n",
    "                elif (r > 2 and r < 6 and c > 5):\n",
    "                    given_bits[3 + (i%3)][6 + mapColumn(i)][Sudoku[r][c]-1]= 0 if (not(i%3+3 == r and mapColumn(i)+6 == c)) else 1\n",
    "                #dritte Reihe an Quadraten\n",
    "                elif (r > 5 and c < 3):\n",
    "                    given_bits[6 + (i%3)][mapColumn(i)][Sudoku[r][c]-1]= 0 if (not(i%3+6 == r and mapColumn(i) == c)) else 1\n",
    "                elif (r > 5 and c > 2 and c < 6):\n",
    "                    given_bits[6 + (i%3)][3 + mapColumn(i)][Sudoku[r][c]-1]= 0 if (not(i%3+6 == r and mapColumn(i)+3 == c)) else 1\n",
    "                elif (r > 5 and c > 5):\n",
    "                    given_bits[6 + (i%3)][6 + mapColumn(i)][Sudoku[r][c]-1]= 0 if (not(i%3+6 == r and mapColumn(i)+6 == c)) else 1\n",
    "    if(r+1)%3==0:\n",
    "        print('')\n",
    "    print(\"\");\n"
   ]
  },
  {
   "cell_type": "code",
   "execution_count": 3,
   "metadata": {},
   "outputs": [
    {
     "name": "stdout",
     "output_type": "stream",
     "text": [
      "[(0, 0, 0), (0, 0, 1), (0, 0, 2), (0, 0, 3), (0, 0, 4), (0, 0, 5), (0, 0, 6), (0, 0, 7), (0, 0, 8)]\n",
      "[(0, 1, 0), (0, 1, 1), (0, 1, 2), (0, 1, 3), (0, 1, 4), (0, 1, 5), (0, 1, 6), (0, 1, 7), (0, 1, 8)]\n",
      "[(0, 2, 0), (0, 2, 1), (0, 2, 2), (0, 2, 3), (0, 2, 4), (0, 2, 5), (0, 2, 6), (0, 2, 7), (0, 2, 8)]\n",
      "[(0, 3, 0), (0, 3, 1), (0, 3, 2), (0, 3, 3), (0, 3, 4), (0, 3, 5), (0, 3, 6), (0, 3, 7), (0, 3, 8)]\n",
      "[(0, 4, 0), (0, 4, 1), (0, 4, 2), (0, 4, 3), (0, 4, 4), (0, 4, 5), (0, 4, 6), (0, 4, 7), (0, 4, 8)]\n",
      "[(0, 5, 0), (0, 5, 1), (0, 5, 2), (0, 5, 3), (0, 5, 4), (0, 5, 5), (0, 5, 6), (0, 5, 7), (0, 5, 8)]\n",
      "[(0, 6, 0), (0, 6, 1), (0, 6, 2), (0, 6, 3), (0, 6, 4), (0, 6, 5), (0, 6, 6), (0, 6, 7), (0, 6, 8)]\n",
      "[(0, 7, 0), (0, 7, 1), (0, 7, 2), (0, 7, 3), (0, 7, 4), (0, 7, 5), (0, 7, 6), (0, 7, 7), (0, 7, 8)]\n",
      "[(0, 8, 0), (0, 8, 1), (0, 8, 2), (0, 8, 3), (0, 8, 4), (0, 8, 5), (0, 8, 6), (0, 8, 7), (0, 8, 8)]\n",
      "[(1, 0, 0), (1, 0, 1), (1, 0, 2), (1, 0, 3), (1, 0, 4), (1, 0, 5), (1, 0, 6), (1, 0, 7), (1, 0, 8)]\n",
      "[(1, 1, 0), (1, 1, 1), (1, 1, 2), (1, 1, 3), (1, 1, 4), (1, 1, 5), (1, 1, 6), (1, 1, 7), (1, 1, 8)]\n",
      "[(1, 2, 0), (1, 2, 1), (1, 2, 2), (1, 2, 3), (1, 2, 4), (1, 2, 5), (1, 2, 6), (1, 2, 7), (1, 2, 8)]\n",
      "[(1, 3, 0), (1, 3, 1), (1, 3, 2), (1, 3, 3), (1, 3, 4), (1, 3, 5), (1, 3, 6), (1, 3, 7), (1, 3, 8)]\n",
      "[(1, 4, 0), (1, 4, 1), (1, 4, 2), (1, 4, 3), (1, 4, 4), (1, 4, 5), (1, 4, 6), (1, 4, 7), (1, 4, 8)]\n",
      "[(1, 5, 0), (1, 5, 1), (1, 5, 2), (1, 5, 3), (1, 5, 4), (1, 5, 5), (1, 5, 6), (1, 5, 7), (1, 5, 8)]\n",
      "[(1, 6, 0), (1, 6, 1), (1, 6, 2), (1, 6, 3), (1, 6, 4), (1, 6, 5), (1, 6, 6), (1, 6, 7), (1, 6, 8)]\n",
      "[(1, 7, 0), (1, 7, 1), (1, 7, 2), (1, 7, 3), (1, 7, 4), (1, 7, 5), (1, 7, 6), (1, 7, 7), (1, 7, 8)]\n",
      "[(1, 8, 0), (1, 8, 1), (1, 8, 2), (1, 8, 3), (1, 8, 4), (1, 8, 5), (1, 8, 6), (1, 8, 7), (1, 8, 8)]\n",
      "[(2, 0, 0), (2, 0, 1), (2, 0, 2), (2, 0, 3), (2, 0, 4), (2, 0, 5), (2, 0, 6), (2, 0, 7), (2, 0, 8)]\n",
      "[(2, 1, 0), (2, 1, 1), (2, 1, 2), (2, 1, 3), (2, 1, 4), (2, 1, 5), (2, 1, 6), (2, 1, 7), (2, 1, 8)]\n",
      "[(2, 2, 0), (2, 2, 1), (2, 2, 2), (2, 2, 3), (2, 2, 4), (2, 2, 5), (2, 2, 6), (2, 2, 7), (2, 2, 8)]\n",
      "[(2, 3, 0), (2, 3, 1), (2, 3, 2), (2, 3, 3), (2, 3, 4), (2, 3, 5), (2, 3, 6), (2, 3, 7), (2, 3, 8)]\n",
      "[(2, 4, 0), (2, 4, 1), (2, 4, 2), (2, 4, 3), (2, 4, 4), (2, 4, 5), (2, 4, 6), (2, 4, 7), (2, 4, 8)]\n",
      "[(2, 5, 0), (2, 5, 1), (2, 5, 2), (2, 5, 3), (2, 5, 4), (2, 5, 5), (2, 5, 6), (2, 5, 7), (2, 5, 8)]\n",
      "[(2, 6, 0), (2, 6, 1), (2, 6, 2), (2, 6, 3), (2, 6, 4), (2, 6, 5), (2, 6, 6), (2, 6, 7), (2, 6, 8)]\n",
      "[(2, 7, 0), (2, 7, 1), (2, 7, 2), (2, 7, 3), (2, 7, 4), (2, 7, 5), (2, 7, 6), (2, 7, 7), (2, 7, 8)]\n",
      "[(2, 8, 0), (2, 8, 1), (2, 8, 2), (2, 8, 3), (2, 8, 4), (2, 8, 5), (2, 8, 6), (2, 8, 7), (2, 8, 8)]\n",
      "[(3, 0, 0), (3, 0, 1), (3, 0, 2), (3, 0, 3), (3, 0, 4), (3, 0, 5), (3, 0, 6), (3, 0, 7), (3, 0, 8)]\n",
      "[(3, 1, 0), (3, 1, 1), (3, 1, 2), (3, 1, 3), (3, 1, 4), (3, 1, 5), (3, 1, 6), (3, 1, 7), (3, 1, 8)]\n",
      "[(3, 2, 0), (3, 2, 1), (3, 2, 2), (3, 2, 3), (3, 2, 4), (3, 2, 5), (3, 2, 6), (3, 2, 7), (3, 2, 8)]\n",
      "[(3, 3, 0), (3, 3, 1), (3, 3, 2), (3, 3, 3), (3, 3, 4), (3, 3, 5), (3, 3, 6), (3, 3, 7), (3, 3, 8)]\n",
      "[(3, 4, 0), (3, 4, 1), (3, 4, 2), (3, 4, 3), (3, 4, 4), (3, 4, 5), (3, 4, 6), (3, 4, 7), (3, 4, 8)]\n",
      "[(3, 5, 0), (3, 5, 1), (3, 5, 2), (3, 5, 3), (3, 5, 4), (3, 5, 5), (3, 5, 6), (3, 5, 7), (3, 5, 8)]\n",
      "[(3, 6, 0), (3, 6, 1), (3, 6, 2), (3, 6, 3), (3, 6, 4), (3, 6, 5), (3, 6, 6), (3, 6, 7), (3, 6, 8)]\n",
      "[(3, 7, 0), (3, 7, 1), (3, 7, 2), (3, 7, 3), (3, 7, 4), (3, 7, 5), (3, 7, 6), (3, 7, 7), (3, 7, 8)]\n",
      "[(3, 8, 0), (3, 8, 1), (3, 8, 2), (3, 8, 3), (3, 8, 4), (3, 8, 5), (3, 8, 6), (3, 8, 7), (3, 8, 8)]\n",
      "[(4, 0, 0), (4, 0, 1), (4, 0, 2), (4, 0, 3), (4, 0, 4), (4, 0, 5), (4, 0, 6), (4, 0, 7), (4, 0, 8)]\n",
      "[(4, 1, 0), (4, 1, 1), (4, 1, 2), (4, 1, 3), (4, 1, 4), (4, 1, 5), (4, 1, 6), (4, 1, 7), (4, 1, 8)]\n",
      "[(4, 2, 0), (4, 2, 1), (4, 2, 2), (4, 2, 3), (4, 2, 4), (4, 2, 5), (4, 2, 6), (4, 2, 7), (4, 2, 8)]\n",
      "[(4, 3, 0), (4, 3, 1), (4, 3, 2), (4, 3, 3), (4, 3, 4), (4, 3, 5), (4, 3, 6), (4, 3, 7), (4, 3, 8)]\n",
      "[(4, 4, 0), (4, 4, 1), (4, 4, 2), (4, 4, 3), (4, 4, 4), (4, 4, 5), (4, 4, 6), (4, 4, 7), (4, 4, 8)]\n",
      "[(4, 5, 0), (4, 5, 1), (4, 5, 2), (4, 5, 3), (4, 5, 4), (4, 5, 5), (4, 5, 6), (4, 5, 7), (4, 5, 8)]\n",
      "[(4, 6, 0), (4, 6, 1), (4, 6, 2), (4, 6, 3), (4, 6, 4), (4, 6, 5), (4, 6, 6), (4, 6, 7), (4, 6, 8)]\n",
      "[(4, 7, 0), (4, 7, 1), (4, 7, 2), (4, 7, 3), (4, 7, 4), (4, 7, 5), (4, 7, 6), (4, 7, 7), (4, 7, 8)]\n",
      "[(4, 8, 0), (4, 8, 1), (4, 8, 2), (4, 8, 3), (4, 8, 4), (4, 8, 5), (4, 8, 6), (4, 8, 7), (4, 8, 8)]\n",
      "[(5, 0, 0), (5, 0, 1), (5, 0, 2), (5, 0, 3), (5, 0, 4), (5, 0, 5), (5, 0, 6), (5, 0, 7), (5, 0, 8)]\n",
      "[(5, 1, 0), (5, 1, 1), (5, 1, 2), (5, 1, 3), (5, 1, 4), (5, 1, 5), (5, 1, 6), (5, 1, 7), (5, 1, 8)]\n",
      "[(5, 2, 0), (5, 2, 1), (5, 2, 2), (5, 2, 3), (5, 2, 4), (5, 2, 5), (5, 2, 6), (5, 2, 7), (5, 2, 8)]\n",
      "[(5, 3, 0), (5, 3, 1), (5, 3, 2), (5, 3, 3), (5, 3, 4), (5, 3, 5), (5, 3, 6), (5, 3, 7), (5, 3, 8)]\n",
      "[(5, 4, 0), (5, 4, 1), (5, 4, 2), (5, 4, 3), (5, 4, 4), (5, 4, 5), (5, 4, 6), (5, 4, 7), (5, 4, 8)]\n",
      "[(5, 5, 0), (5, 5, 1), (5, 5, 2), (5, 5, 3), (5, 5, 4), (5, 5, 5), (5, 5, 6), (5, 5, 7), (5, 5, 8)]\n",
      "[(5, 6, 0), (5, 6, 1), (5, 6, 2), (5, 6, 3), (5, 6, 4), (5, 6, 5), (5, 6, 6), (5, 6, 7), (5, 6, 8)]\n",
      "[(5, 7, 0), (5, 7, 1), (5, 7, 2), (5, 7, 3), (5, 7, 4), (5, 7, 5), (5, 7, 6), (5, 7, 7), (5, 7, 8)]\n",
      "[(5, 8, 0), (5, 8, 1), (5, 8, 2), (5, 8, 3), (5, 8, 4), (5, 8, 5), (5, 8, 6), (5, 8, 7), (5, 8, 8)]\n",
      "[(6, 0, 0), (6, 0, 1), (6, 0, 2), (6, 0, 3), (6, 0, 4), (6, 0, 5), (6, 0, 6), (6, 0, 7), (6, 0, 8)]\n",
      "[(6, 1, 0), (6, 1, 1), (6, 1, 2), (6, 1, 3), (6, 1, 4), (6, 1, 5), (6, 1, 6), (6, 1, 7), (6, 1, 8)]\n",
      "[(6, 2, 0), (6, 2, 1), (6, 2, 2), (6, 2, 3), (6, 2, 4), (6, 2, 5), (6, 2, 6), (6, 2, 7), (6, 2, 8)]\n",
      "[(6, 3, 0), (6, 3, 1), (6, 3, 2), (6, 3, 3), (6, 3, 4), (6, 3, 5), (6, 3, 6), (6, 3, 7), (6, 3, 8)]\n",
      "[(6, 4, 0), (6, 4, 1), (6, 4, 2), (6, 4, 3), (6, 4, 4), (6, 4, 5), (6, 4, 6), (6, 4, 7), (6, 4, 8)]\n",
      "[(6, 5, 0), (6, 5, 1), (6, 5, 2), (6, 5, 3), (6, 5, 4), (6, 5, 5), (6, 5, 6), (6, 5, 7), (6, 5, 8)]\n",
      "[(6, 6, 0), (6, 6, 1), (6, 6, 2), (6, 6, 3), (6, 6, 4), (6, 6, 5), (6, 6, 6), (6, 6, 7), (6, 6, 8)]\n",
      "[(6, 7, 0), (6, 7, 1), (6, 7, 2), (6, 7, 3), (6, 7, 4), (6, 7, 5), (6, 7, 6), (6, 7, 7), (6, 7, 8)]\n",
      "[(6, 8, 0), (6, 8, 1), (6, 8, 2), (6, 8, 3), (6, 8, 4), (6, 8, 5), (6, 8, 6), (6, 8, 7), (6, 8, 8)]\n",
      "[(7, 0, 0), (7, 0, 1), (7, 0, 2), (7, 0, 3), (7, 0, 4), (7, 0, 5), (7, 0, 6), (7, 0, 7), (7, 0, 8)]\n",
      "[(7, 1, 0), (7, 1, 1), (7, 1, 2), (7, 1, 3), (7, 1, 4), (7, 1, 5), (7, 1, 6), (7, 1, 7), (7, 1, 8)]\n",
      "[(7, 2, 0), (7, 2, 1), (7, 2, 2), (7, 2, 3), (7, 2, 4), (7, 2, 5), (7, 2, 6), (7, 2, 7), (7, 2, 8)]\n",
      "[(7, 3, 0), (7, 3, 1), (7, 3, 2), (7, 3, 3), (7, 3, 4), (7, 3, 5), (7, 3, 6), (7, 3, 7), (7, 3, 8)]\n",
      "[(7, 4, 0), (7, 4, 1), (7, 4, 2), (7, 4, 3), (7, 4, 4), (7, 4, 5), (7, 4, 6), (7, 4, 7), (7, 4, 8)]\n",
      "[(7, 5, 0), (7, 5, 1), (7, 5, 2), (7, 5, 3), (7, 5, 4), (7, 5, 5), (7, 5, 6), (7, 5, 7), (7, 5, 8)]\n",
      "[(7, 6, 0), (7, 6, 1), (7, 6, 2), (7, 6, 3), (7, 6, 4), (7, 6, 5), (7, 6, 6), (7, 6, 7), (7, 6, 8)]\n",
      "[(7, 7, 0), (7, 7, 1), (7, 7, 2), (7, 7, 3), (7, 7, 4), (7, 7, 5), (7, 7, 6), (7, 7, 7), (7, 7, 8)]\n",
      "[(7, 8, 0), (7, 8, 1), (7, 8, 2), (7, 8, 3), (7, 8, 4), (7, 8, 5), (7, 8, 6), (7, 8, 7), (7, 8, 8)]\n",
      "[(8, 0, 0), (8, 0, 1), (8, 0, 2), (8, 0, 3), (8, 0, 4), (8, 0, 5), (8, 0, 6), (8, 0, 7), (8, 0, 8)]\n",
      "[(8, 1, 0), (8, 1, 1), (8, 1, 2), (8, 1, 3), (8, 1, 4), (8, 1, 5), (8, 1, 6), (8, 1, 7), (8, 1, 8)]\n",
      "[(8, 2, 0), (8, 2, 1), (8, 2, 2), (8, 2, 3), (8, 2, 4), (8, 2, 5), (8, 2, 6), (8, 2, 7), (8, 2, 8)]\n",
      "[(8, 3, 0), (8, 3, 1), (8, 3, 2), (8, 3, 3), (8, 3, 4), (8, 3, 5), (8, 3, 6), (8, 3, 7), (8, 3, 8)]\n",
      "[(8, 4, 0), (8, 4, 1), (8, 4, 2), (8, 4, 3), (8, 4, 4), (8, 4, 5), (8, 4, 6), (8, 4, 7), (8, 4, 8)]\n",
      "[(8, 5, 0), (8, 5, 1), (8, 5, 2), (8, 5, 3), (8, 5, 4), (8, 5, 5), (8, 5, 6), (8, 5, 7), (8, 5, 8)]\n",
      "[(8, 6, 0), (8, 6, 1), (8, 6, 2), (8, 6, 3), (8, 6, 4), (8, 6, 5), (8, 6, 6), (8, 6, 7), (8, 6, 8)]\n",
      "[(8, 7, 0), (8, 7, 1), (8, 7, 2), (8, 7, 3), (8, 7, 4), (8, 7, 5), (8, 7, 6), (8, 7, 7), (8, 7, 8)]\n",
      "[(8, 8, 0), (8, 8, 1), (8, 8, 2), (8, 8, 3), (8, 8, 4), (8, 8, 5), (8, 8, 6), (8, 8, 7), (8, 8, 8)]\n"
     ]
    }
   ],
   "source": [
    "\n",
    "    \n",
    "var_shape_set = VarShapeSet(BitArrayShape('x', (N, N, 9), one_hot=OneHot.one_way, constant_bits=given_bits, axis_names=['Row', 'Column', 'Value'])) "
   ]
  },
  {
   "cell_type": "markdown",
   "metadata": {},
   "source": [
    "## QUBO parts"
   ]
  },
  {
   "cell_type": "markdown",
   "metadata": {},
   "source": [
    "### H1 : Nur eine Zahl pro Zelle\n",
    "        "
   ]
  },
  {
   "cell_type": "code",
   "execution_count": 4,
   "metadata": {},
   "outputs": [],
   "source": [
    "H1 = BinPol(var_shape_set)\n",
    "for r in range(N):\n",
    "    for c in range(N):\n",
    "        h = BinPol(var_shape_set).add_term(-1, ())\n",
    "        for v in range(9):\n",
    "            h.add_term(1,(('x', r, c, v),))\n",
    "        h.power(2)\n",
    "        H1.add(h)"
   ]
  },
  {
   "cell_type": "markdown",
   "metadata": {},
   "source": [
    "### H2 : In each square, one digit occurs exactly a single time"
   ]
  },
  {
   "cell_type": "code",
   "execution_count": 5,
   "metadata": {},
   "outputs": [],
   "source": [
    "H2 = BinPol(var_shape_set)\n",
    "for i in range(9): #9 squares\n",
    "    for v in range(9):\n",
    "        h = BinPol(var_shape_set).add_term(-1, ())\n",
    "        for r in range(3):\n",
    "            for c in range(3):\n",
    "                h.add_term(1,(('x', r + (i%3)*3, c + mapColumn(i)*3, v),))\n",
    "        h.power(2)\n",
    "        H2.add(h)"
   ]
  },
  {
   "cell_type": "markdown",
   "metadata": {},
   "source": [
    "### H3: In a column and row, one digit occurs exactly a single time\n"
   ]
  },
  {
   "cell_type": "code",
   "execution_count": 6,
   "metadata": {
    "scrolled": true
   },
   "outputs": [],
   "source": [
    "H3 = BinPol(var_shape_set)\n",
    "for c in range(N):\n",
    "    for v in range(9):\n",
    "        h = BinPol(var_shape_set).add_term(-1, ())\n",
    "        for r in range(N):\n",
    "            h.add_term(1,(('x', r, c, v),))\n",
    "        h.power(2)\n",
    "        H3.add(h)\n",
    "            "
   ]
  },
  {
   "cell_type": "code",
   "execution_count": 7,
   "metadata": {},
   "outputs": [],
   "source": [
    "for r in range(N):\n",
    "    for v in range(9):\n",
    "        h = BinPol(var_shape_set).add_term(-1, ())\n",
    "        for c in range(N):\n",
    "            h.add_term(1,(('x', r, c, v),))\n",
    "        h.power(2)\n",
    "        H3.add(h)"
   ]
  },
  {
   "cell_type": "markdown",
   "metadata": {},
   "source": [
    "## Solve"
   ]
  },
  {
   "cell_type": "code",
   "execution_count": 8,
   "metadata": {},
   "outputs": [],
   "source": [
    "solverCPU = FujitsuQUBOSolverEmulatorCPU( # FujitsuQUBOSolverEmulatorOneHotCPU or FujitsuQUBOSolverEmulatorCPU\n",
    "            number_iterations=300*1000,\n",
    "            number_runs=1,\n",
    "\n",
    "            expert_mode=True,\n",
    "            temperature_start=10000,\n",
    "            temperature_end=1,\n",
    "            temperature_mode=0,\n",
    "            offset_increase_rate=100,\n",
    "\n",
    "            solution_mode='COMPLETE',\n",
    "            optimization_method=OM_ANNEALING,\n",
    "    \n",
    "            graphics=GraphicsDetail.ALL,\n",
    "\n",
    "            annealer_version=2,\n",
    "            bit_precision=16)\n",
    "\n",
    "\"\"\" solverDAU = FujitsuQUBOSolverDAU(\n",
    "            number_iterations=10*1000*1000,\n",
    "            number_runs=128,\n",
    "\n",
    "            expert_mode=True,\n",
    "            temperature_start=10000,\n",
    "            temperature_end=1,\n",
    "            temperature_mode=0,\n",
    "            offset_increase_rate=20,\n",
    "\n",
    "            solution_mode='COMPLETE',\n",
    "            optimization_method=OM_ANNEALING,\n",
    "\n",
    "            use_access_profile=True,\n",
    "            annealer_version=2,\n",
    "            bit_precision=16) \"\"\"\n",
    "    \n",
    "solver = solverCPU"
   ]
  },
  {
   "cell_type": "code",
   "execution_count": null,
   "metadata": {},
   "outputs": [
    {
     "name": "stdout",
     "output_type": "stream",
     "text": [
      "254\n"
     ]
    }
   ],
   "source": [
    "qubo = 1000*(H1 + H2 + H3)\n",
    "print(qubo.N)\n",
    "solution_list = solver.minimize(qubo) "
   ]
  },
  {
   "cell_type": "code",
   "execution_count": null,
   "metadata": {
    "scrolled": true
   },
   "outputs": [],
   "source": [
    "for solution in solution_list.get_solution_list():   \n",
    "    if qubo.compute(solution.configuration) == 0:\n",
    "    \n",
    "        magic_square = np.full((N,N), -1) \n",
    "    \n",
    "        config_bits = VarSet(solution.configuration, var_shape_set)\n",
    "        start_table = config_bits.extract_bit_array('x')\n",
    "        for r in range(N):\n",
    "            for c in range(N):\n",
    "                for v in range(9):\n",
    "                    if start_table.data[r, c, v]:\n",
    "                        magic_square[r][c] = (v+1)\n",
    "\n",
    "        display(widgets.HTML('<h4>frequency %d</h4>' % solution.frequency))\n",
    "        print(tabulate(magic_square, tablefmt=\"fancy_grid\"))\n",
    "    else:\n",
    "        print('not a valid solution')"
   ]
  },
  {
   "cell_type": "code",
   "execution_count": null,
   "metadata": {},
   "outputs": [],
   "source": [
    "solution_list.print_stats()\n",
    "solution_list.print_graphs()"
   ]
  }
 ],
 "metadata": {
  "kernelspec": {
   "display_name": "Python 3",
   "language": "python",
   "name": "python3"
  },
  "language_info": {
   "codemirror_mode": {
    "name": "ipython",
    "version": 3
   },
   "file_extension": ".py",
   "mimetype": "text/x-python",
   "name": "python",
   "nbconvert_exporter": "python",
   "pygments_lexer": "ipython3",
   "version": "3.8.5"
  }
 },
 "nbformat": 4,
 "nbformat_minor": 4
}
